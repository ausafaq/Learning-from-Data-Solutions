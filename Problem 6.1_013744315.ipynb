{
 "cells": [
  {
   "cell_type": "code",
   "execution_count": 67,
   "metadata": {},
   "outputs": [
    {
     "data": {
      "image/png": "[encoded data removed]",
      "text/plain": [
       "<Figure size 432x288 with 1 Axes>"
      ]
     },
     "metadata": {},
     "output_type": "display_data"
    }
   ],
   "source": [
    "from matplotlib.mlab import griddata\n",
    "from numpy.linalg import inv\n",
    "import matplotlib.pyplot as plt\n",
    "import numpy as np\n",
    "from sklearn.neighbors import KNeighborsClassifier\n",
    "\n",
    "X1 = [0, 0, -2]\n",
    "Y1=[2, -2, 0]\n",
    "X2 = [1, 0, 0, -1]\n",
    "Y2 = [0, 1, -1, 0]\n",
    "\n",
    "\n",
    "#label the data\n",
    "data1 = [np.array([X1[i],Y1[i],1]) for i in range(3)]\n",
    "data2 = [np.array([X2[i],Y2[i],-1]) for i in range(4)]\n",
    "data = data1 + data2\n",
    "\n",
    "\n",
    "#Plotting the Inputs\n",
    "plt.scatter(X2, Y2, s=50, marker='_', linewidths=2, color='black')\n",
    "plt.scatter(X1, Y1, s=50, marker='*', linewidths=2, color='red')\n",
    "plt.show()\n",
    "\n"
   ]
  },
  {
   "cell_type": "markdown",
   "metadata": {},
   "source": [
    "# BELOW IS SOLUTION TO PROBLEM 6.1(a)"
   ]
  },
  {
   "cell_type": "code",
   "execution_count": 68,
   "metadata": {},
   "outputs": [
    {
     "name": "stdout",
     "output_type": "stream",
     "text": [
      "[[ 0  2]\n",
      " [ 0 -2]\n",
      " [-2  0]\n",
      " [ 1  0]\n",
      " [ 0  1]\n",
      " [ 0 -1]\n",
      " [-1  0]]\n"
     ]
    },
    {
     "name": "stderr",
     "output_type": "stream",
     "text": [
      "/anaconda3/lib/python3.6/site-packages/ipykernel_launcher.py:11: DataConversionWarning: A column-vector y was passed when a 1d array was expected. Please change the shape of y to (n_samples, ), for example using ravel().\n",
      "  # This is added back by InteractiveShellApp.init_path()\n"
     ]
    },
    {
     "data": {
      "text/plain": [
       "KNeighborsClassifier(algorithm='auto', leaf_size=30, metric='minkowski',\n",
       "           metric_params=None, n_jobs=1, n_neighbors=1, p=2,\n",
       "           weights='uniform')"
      ]
     },
     "execution_count": 68,
     "metadata": {},
     "output_type": "execute_result"
    }
   ],
   "source": [
    "\n",
    "#Question : Show the decision regions for the 1-NN and 3-NN rules.\n",
    "\n",
    "#Extracting Input Vector X and corresponding Label Y from Data\n",
    "\n",
    "X_PTS=np.array(data)[:,:2]  \n",
    "print(X_PTS)\n",
    "Y_PTS= np.array(data)[:,2:3]\n",
    "\n",
    "kNeighbors = KNeighborsClassifier(n_neighbors=1)\n",
    "kNeighbors.fit(X_PTS,Y_PTS)\n"
   ]
  },
  {
   "cell_type": "code",
   "execution_count": 69,
   "metadata": {},
   "outputs": [
    {
     "data": {
      "image/png": "[encoded data removed]",
      "text/plain": [
       "<Figure size 432x288 with 1 Axes>"
      ]
     },
     "metadata": {},
     "output_type": "display_data"
    }
   ],
   "source": [
    "# Plot the decision boundary. For that, assign a color to each point in the mesh [x_min, x_max] x [y_min, y_max].\n",
    "from matplotlib.colors import ListedColormap\n",
    "h = .02\n",
    "cmap_light = ListedColormap(['#FFAAAA', '#AAFFAA', '#AAAAFF'])\n",
    "cmap_bold = ListedColormap(['#FF0000', '#00FF00', '#0000FF'])\n",
    "\n",
    "x_min, x_max = X_PTS[:, 0].min() - 1, X_PTS[:, 0].max() + 1\n",
    "y_min, y_max = X_PTS[:, 1].min() - 1, X_PTS[:, 1].max() + 1\n",
    "XX, YY = np.meshgrid(np.arange(x_min, x_max, h),\n",
    "                         np.arange(y_min, y_max, h))\n",
    "Z = kNeighbors.predict(np.c_[XX.ravel(), YY.ravel()])\n",
    "    \n",
    "    \n",
    "# Put the result into a color plot\n",
    "Z = Z.reshape(XX.shape)\n",
    "plt.figure()\n",
    "plt.pcolormesh(XX, YY, Z, cmap=cmap_light)\n",
    "\n",
    "\n",
    "plt.scatter(X2, Y2, s=50, marker='_', linewidths=2, color='black')\n",
    "plt.scatter(X1, Y1, s=50, marker='*', linewidths=2, color='red')\n",
    "plt.show()"
   ]
  },
  {
   "cell_type": "code",
   "execution_count": 70,
   "metadata": {},
   "outputs": [
    {
     "name": "stderr",
     "output_type": "stream",
     "text": [
      "/anaconda3/lib/python3.6/site-packages/ipykernel_launcher.py:3: DataConversionWarning: A column-vector y was passed when a 1d array was expected. Please change the shape of y to (n_samples, ), for example using ravel().\n",
      "  This is separate from the ipykernel package so we can avoid doing imports until\n"
     ]
    },
    {
     "data": {
      "image/png": "[encoded data removed]",
      "text/plain": [
       "<Figure size 432x288 with 1 Axes>"
      ]
     },
     "metadata": {},
     "output_type": "display_data"
    }
   ],
   "source": [
    "kNeighbors = KNeighborsClassifier(n_neighbors=3)\n",
    "\n",
    "kNeighbors.fit(X_PTS,Y_PTS)\n",
    "\n",
    "# Plot the decision boundary. For that, we will assign a color to each\n",
    "# point in the mesh [x_min, x_max]x[y_min, y_max].\n",
    "from matplotlib.colors import ListedColormap\n",
    "h = .02\n",
    "cmap_light = ListedColormap(['#FFAAAA', '#AAFFAA', '#AAAAFF'])\n",
    "cmap_bold = ListedColormap(['#FF0000', '#00FF00', '#0000FF'])\n",
    "\n",
    "x_min, x_max = X_PTS[:, 0].min() - 1, X_PTS[:, 0].max() + 1\n",
    "y_min, y_max = X_PTS[:, 1].min() - 1, X_PTS[:, 1].max() + 1\n",
    "XX, YY = np.meshgrid(np.arange(x_min, x_max, h),\n",
    "                         np.arange(y_min, y_max, h))\n",
    "Z = kNeighbors.predict(np.c_[XX.ravel(), YY.ravel()])\n",
    "    \n",
    "     # Put the result into a color plot\n",
    "Z = Z.reshape(XX.shape)\n",
    "plt.figure()\n",
    "plt.pcolormesh(XX, YY, Z, cmap=cmap_light)\n",
    "\n",
    "\n",
    "plt.scatter(X2, Y2, s=50, marker='_', linewidths=2, color='black')\n",
    "plt.scatter(X1, Y1, s=50, marker='*', linewidths=2, color='red')\n",
    "plt.show()\n",
    "\n"
   ]
  },
  {
   "cell_type": "markdown",
   "metadata": {},
   "source": [
    "#  BELOW IS SOLUTION TO PROBLEM 6.1(b)"
   ]
  },
  {
   "cell_type": "code",
   "execution_count": 71,
   "metadata": {},
   "outputs": [
    {
     "name": "stdout",
     "output_type": "stream",
     "text": [
      "[[ 0  2]\n",
      " [ 0 -2]\n",
      " [-2  0]\n",
      " [ 1  0]\n",
      " [ 0  1]\n",
      " [ 0 -1]\n",
      " [-1  0]]\n",
      "[2.0, 2.0, 2.0, 1.0, 1.0, 1.0, 1.0]\n",
      "[1.5707963267948966, -1.5707963267948966, -0.0, 0.0, 1.5707963267948966, -1.5707963267948966, -0.0]\n",
      "[array([2.        , 1.57079633, 1.        ]), array([ 2.        , -1.57079633,  1.        ]), array([ 2., -0.,  1.]), array([ 1.,  0., -1.]), array([ 1.        ,  1.57079633, -1.        ]), array([ 1.        , -1.57079633, -1.        ]), array([ 1., -0., -1.])]\n"
     ]
    },
    {
     "name": "stderr",
     "output_type": "stream",
     "text": [
      "/anaconda3/lib/python3.6/site-packages/ipykernel_launcher.py:49: DataConversionWarning: A column-vector y was passed when a 1d array was expected. Please change the shape of y to (n_samples, ), for example using ravel().\n"
     ]
    },
    {
     "data": {
      "text/plain": [
       "KNeighborsClassifier(algorithm='auto', leaf_size=30, metric='minkowski',\n",
       "           metric_params=None, n_jobs=1, n_neighbors=1, p=2,\n",
       "           weights='uniform')"
      ]
     },
     "execution_count": 71,
     "metadata": {},
     "output_type": "execute_result"
    }
   ],
   "source": [
    "\n",
    "#Question : Show the classification regions in the x-space for the 1-NN and 3-NN rules \n",
    "#           implemented on the data in the z-space.\n",
    "\n",
    "import math\n",
    "\n",
    "Z1=[]\n",
    "Z2=[]\n",
    "print(X_PTS)\n",
    "#-------------- Z1 & Z2 feature --------------\n",
    "def conversion(X_PTS):\n",
    "    for i in range(len(X_PTS)):\n",
    "        x1=X_PTS[i:i+1,0:1]\n",
    "        x2=X_PTS[i:i+1,1:2]\n",
    "        Z1.append(math.sqrt( (x1**2) + (x2**2) ))\n",
    "        if x1==0 and x2>0:\n",
    "            Z2.append((math.pi) / 2)\n",
    "        elif x1==0 and x2<0:\n",
    "            Z2.append(- (math.pi)/ 2)\n",
    "        else:\n",
    "            Z2.append(math.atan(x2/x1))\n",
    "    return Z1, Z2\n",
    "    \n",
    "Z1, Z2 = conversion(X_PTS)\n",
    "\n",
    "    \n",
    "print(Z1)\n",
    "print(Z2)\n",
    "\n",
    "\n",
    "\n",
    "#labeling the data\n",
    "data1 = [np.array([Z1[i],Z2[i],1]) for i in range(3)]\n",
    "data2 = [np.array([Z1[3+i],Z2[3+i],-1]) for i in range(4)]\n",
    "data = data1 + data2\n",
    "print(data)\n",
    "\n",
    "from sklearn.neighbors import KNeighborsClassifier\n",
    "\n",
    "#Input vector\n",
    "X_z = np.array(data)[:,:2]     \n",
    "\n",
    "#Labels corresponding to the input vector\n",
    "Y_z = np.array(data)[:,2:3]     \n",
    "\n",
    "#Calculating for N = 1\n",
    "\n",
    "kNeighbors_z = KNeighborsClassifier(n_neighbors=1)\n",
    "kNeighbors_z.fit(X_z,Y_z)\n",
    "\n",
    "\n",
    "\n"
   ]
  },
  {
   "cell_type": "code",
   "execution_count": 72,
   "metadata": {},
   "outputs": [
    {
     "name": "stdout",
     "output_type": "stream",
     "text": [
      "(250, 250)\n",
      "(250, 250)\n"
     ]
    },
    {
     "data": {
      "image/png": "[encoded data removed]",
      "text/plain": [
       "<Figure size 432x288 with 1 Axes>"
      ]
     },
     "metadata": {},
     "output_type": "display_data"
    }
   ],
   "source": [
    "# Plot the decision boundary. For that, we will assign a color to each\n",
    "# point in the mesh [x_min, x_max]x[y_min, y_max].\n",
    "from matplotlib.colors import ListedColormap\n",
    "h = .02\n",
    "cmap_light = ListedColormap(['#FFAAAA', '#AAFFAA', '#AAAAFF'])\n",
    "cmap_bold = ListedColormap(['#FF0000', '#00FF00', '#0000FF'])\n",
    "\n",
    "x_min, x_max = -2.5,2.5# X_z[:, 0].min() - 1, X_z[:, 0].max() + 1\n",
    "y_min, y_max = -2.5,2.5#X_z[:, 1].min() - 1, X_z[:, 1].max() + 1\n",
    "XX, YY = np.meshgrid(np.arange(x_min, x_max, h),\n",
    "                         np.arange(y_min, y_max, h))\n",
    "XX_Z=[]\n",
    "YY_Z=[]\n",
    "\n",
    "print(XX.shape)\n",
    "print(YY.shape)\n",
    "\n",
    "def conversion(XX, YY):\n",
    "    for i in range(len(XX)):\n",
    "        for j in range(len(YY)):\n",
    "            XX_Z.append(math.sqrt( (XX[i][j]**2) + (YY[i][j]**2) ))\n",
    "            if XX[i][j]==0 and YY[i][j]>0:\n",
    "                YY_Z.append((math.pi) / 2)\n",
    "            elif XX[i][j]==0 and YY[i][j]<0:\n",
    "                YY_Z.append(- (math.pi)/ 2)\n",
    "            else:\n",
    "                YY_Z.append(math.atan(YY[i][j]/XX[i][j]))\n",
    "    return XX_Z, YY_Z\n",
    "\n",
    "\n",
    "#Converting/Transforming each point in X-Y plane\n",
    "XX_Z, YY_Z = conversion(XX,YY)\n",
    "\n",
    "X_z = np.array([XX_Z])\n",
    "Y_z = np.array([YY_Z])\n",
    "        \n",
    "\n",
    "XY = kNeighbors_z.predict(np.c_[X_z.ravel(), Y_z.ravel()])\n",
    "\n",
    "    \n",
    "# Put the result into a color plot\n",
    "XY = XY.reshape(XX.shape)\n",
    "plt.figure()\n",
    "plt.pcolormesh(XX, YY, XY, cmap=cmap_light)\n",
    "\n",
    "\n",
    "plt.scatter(X2, Y2, s=50, marker='_', linewidths=2, color='black')\n",
    "plt.scatter(X1, Y1, s=50, marker='*', linewidths=2, color='red')\n",
    "plt.show()"
   ]
  },
  {
   "cell_type": "markdown",
   "metadata": {},
   "source": [
    "# Running the same algorithm as above for N = 3"
   ]
  },
  {
   "cell_type": "code",
   "execution_count": 73,
   "metadata": {},
   "outputs": [
    {
     "name": "stderr",
     "output_type": "stream",
     "text": [
      "/anaconda3/lib/python3.6/site-packages/ipykernel_launcher.py:12: DataConversionWarning: A column-vector y was passed when a 1d array was expected. Please change the shape of y to (n_samples, ), for example using ravel().\n",
      "  if sys.path[0] == '':\n"
     ]
    },
    {
     "name": "stdout",
     "output_type": "stream",
     "text": [
      "(300, 300)\n",
      "(300, 300)\n"
     ]
    },
    {
     "data": {
      "image/png": "[encoded data removed]",
      "text/plain": [
       "<Figure size 432x288 with 1 Axes>"
      ]
     },
     "metadata": {},
     "output_type": "display_data"
    }
   ],
   "source": [
    "from sklearn.neighbors import KNeighborsClassifier\n",
    "\n",
    "#Input vector\n",
    "X_z = np.array(data)[:,:2]     \n",
    "\n",
    "#Labels corresponding to the input vector\n",
    "Y_z = np.array(data)[:,2:3]     \n",
    "\n",
    "#Calculating for N = 3\n",
    "\n",
    "kNeighbors_z = KNeighborsClassifier(n_neighbors=3)\n",
    "kNeighbors_z.fit(X_z,Y_z)\n",
    "\n",
    "\n",
    "# Plot the decision boundary. For that, we will assign a color to each\n",
    "# point in the mesh [x_min, x_max]x[y_min, y_max].\n",
    "from matplotlib.colors import ListedColormap\n",
    "h = .02\n",
    "cmap_light = ListedColormap(['#FFAAAA', '#AAFFAA', '#AAAAFF'])\n",
    "cmap_bold = ListedColormap(['#FF0000', '#00FF00', '#0000FF'])\n",
    "\n",
    "x_min, x_max = -3,3# X_z[:, 0].min() - 1, X_z[:, 0].max() + 1\n",
    "y_min, y_max = -3,3#X_z[:, 1].min() - 1, X_z[:, 1].max() + 1\n",
    "XX, YY = np.meshgrid(np.arange(x_min, x_max, h),\n",
    "                         np.arange(y_min, y_max, h))\n",
    "XX_Z=[]\n",
    "YY_Z=[]\n",
    "\n",
    "print(XX.shape)\n",
    "print(YY.shape)\n",
    "\n",
    "def conversion(XX, YY):\n",
    "    for i in range(len(XX)):\n",
    "        for j in range(len(YY)):\n",
    "            XX_Z.append(math.sqrt( (XX[i][j]**2) + (YY[i][j]**2) ))\n",
    "            if XX[i][j]==0 and YY[i][j]>0:\n",
    "                YY_Z.append((math.pi) / 2)\n",
    "            elif XX[i][j]==0 and YY[i][j]<0:\n",
    "                YY_Z.append(- (math.pi)/ 2)\n",
    "            else:\n",
    "                YY_Z.append(math.atan(YY[i][j]/XX[i][j]))\n",
    "    return XX_Z, YY_Z\n",
    "\n",
    "\n",
    "#Converting/Transforming each point in X-Y plane\n",
    "XX_Z, YY_Z = conversion(XX,YY)\n",
    "\n",
    "X_z = np.array([XX_Z])\n",
    "Y_z = np.array([YY_Z])\n",
    "        \n",
    "\n",
    "XY = kNeighbors_z.predict(np.c_[X_z.ravel(), Y_z.ravel()])\n",
    "\n",
    "    \n",
    "# Put the result into a color plot\n",
    "XY = XY.reshape(XX.shape)\n",
    "plt.figure()\n",
    "plt.pcolormesh(XX, YY, XY, cmap=cmap_light)\n",
    "\n",
    "\n",
    "plt.scatter(X2, Y2, s=50, marker='_', linewidths=2, color='black')\n",
    "plt.scatter(X1, Y1, s=50, marker='*', linewidths=2, color='red')\n",
    "plt.show()"
   ]
  },
  {
   "cell_type": "code",
   "execution_count": null,
   "metadata": {},
   "outputs": [],
   "source": []
  }
 ],
 "metadata": {
  "kernelspec": {
   "display_name": "Python 3",
   "language": "python",
   "name": "python3"
  },
  "language_info": {
   "codemirror_mode": {
    "name": "ipython",
    "version": 3
   },
   "file_extension": ".py",
   "mimetype": "text/x-python",
   "name": "python",
   "nbconvert_exporter": "python",
   "pygments_lexer": "ipython3",
   "version": "3.6.5"
  }
 },
 "nbformat": 4,
 "nbformat_minor": 2
}
