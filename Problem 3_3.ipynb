{
 "cells": [
  {
   "cell_type": "code",
   "execution_count": null,
   "metadata": {},
   "outputs": [],
   "source": [
    "import numpy as np\n",
    "import matplotlib.pyplot as plt\n",
    "\n",
    "#parameters\n",
    "rad = 10\n",
    "thk = 5\n",
    "sep = -5\n",
    "\n",
    "#n data points,(x1,y1) are the coordinates of the top semi-circle\n",
    "def generatedata(rad,thk,sep,n,x1=0,y1=0):\n",
    "    # center of the top semi-circle\n",
    "    X1 = x1\n",
    "    Y1 = y1\n",
    "\n",
    "    # center of the bottom semi-circle\n",
    "    X2 = X1 + rad + thk / 2\n",
    "    Y2 = Y1 - sep\n",
    "    \n",
    "    # data points in the top semi-circle\n",
    "    top = []\n",
    "    # data points in the bottom semi-circle\n",
    "    bottom = []\n",
    "    \n",
    "    # parameters\n",
    "    r1 = rad + thk\n",
    "    r2 = rad\n",
    "    \n",
    "    cnt = 1\n",
    "    while(cnt <= n):\n",
    "        #uniformed generated points\n",
    "        x = np.random.uniform(-r1,r1)\n",
    "        y = np.random.uniform(-r1,r1)\n",
    "        \n",
    "        d = x**2 + y**2\n",
    "        if(d >= r2**2 and d <= r1**2):\n",
    "            if (y > 0):\n",
    "                top.append([X1 + x,Y1 + y])\n",
    "                cnt += 1\n",
    "            else:\n",
    "                bottom.append([X2 + x,Y2 + y])\n",
    "                cnt += 1\n",
    "        else:\n",
    "            continue\n",
    "\n",
    "    return top,bottom"
   ]
  },
  {
   "cell_type": "code",
   "execution_count": null,
   "metadata": {},
   "outputs": [],
   "source": [
    "top,bottom = generatedata(rad,thk,sep,2000)\n",
    "\n",
    "X1 = [i[0] for i in top]\n",
    "Y1 = [i[1] for i in top]\n",
    "\n",
    "X2 = [i[0] for i in bottom]\n",
    "Y2 = [i[1] for i in bottom]\n",
    "\n",
    "plt.scatter(X1,Y1,s = 1)\n",
    "plt.scatter(X2,Y2,s = 1)\n",
    "plt.show()"
   ]
  },
  {
   "cell_type": "code",
   "execution_count": null,
   "metadata": {},
   "outputs": [],
   "source": [
    "print(\"a........ If we run PLA, it'll never stop updating\")"
   ]
  },
  {
   "cell_type": "code",
   "execution_count": null,
   "metadata": {},
   "outputs": [],
   "source": [
    "# pre-processing the data for (a)\n",
    "x1 = [[1] + i + [1] for i in top]\n",
    "x2 = [[1] + i + [-1] for i in bottom]\n",
    "data = x1 + x2\n",
    "    \n",
    "data = np.array(data)\n",
    "np.random.shuffle(data)"
   ]
  },
  {
   "cell_type": "code",
   "execution_count": null,
   "metadata": {},
   "outputs": [],
   "source": [
    "weight = [0,0,0] \n",
    "count = 0\n",
    "e = []\n",
    "for i in range(100000):\n",
    "    point = data[i]\n",
    "    point.tolist()\n",
    "    weight = np.add(weight,(np.dot(point[3],point[0:3])))\n",
    "    h_x = np.dot(point[0:3],np.transpose(w))\n",
    "    error = np.absolute((point[3]-sum(h_x)/2000))\n",
    "    e.append(r)\n",
    "x_axs = np.arange(0,100000)\n",
    "plt.plot(x_axs,e)\n",
    "print(\"b............ \")\n",
    "plt.show()"
   ]
  },
  {
   "cell_type": "code",
   "execution_count": null,
   "metadata": {},
   "outputs": [],
   "source": [
    "x_point = []\n",
    "y_point = []\n",
    "weight = [0,0,0]\n",
    "count = 0\n",
    "for j in range(100000):\n",
    "    for i in range(len(data)):\n",
    "        point = data[i]\n",
    "        point.tolist()\n",
    "            if(np.sign(np.matmul(point[0:3],weight)) != point[3]):\n",
    "                weight = np.add(weight,(np.dot(point[3],point[0:3])))\n",
    "                axes = plt.gca()\n",
    "                plt.scatter(X1,Y1,s = 1)\n",
    "                plt.scatter(X2,Y2,s = 1)\n",
    "                x_h = np.array(axes.get_xlim())\n",
    "                y_h = (-(weight[1]/weight[2])*x_h)-(weight[0]/weight[2])\n",
    "                plt.plot(x_h,y_h)\n",
    "                print(\"c........... \")\n",
    "                plt.show()"
   ]
  },
  {
   "cell_type": "code",
   "execution_count": null,
   "metadata": {},
   "outputs": [],
   "source": [
    "from sklearn import linear_model"
   ]
  },
  {
   "cell_type": "code",
   "execution_count": null,
   "metadata": {},
   "outputs": [],
   "source": [
    "r = linear_model.LinearRegression()"
   ]
  },
  {
   "cell_type": "code",
   "execution_count": null,
   "metadata": {},
   "outputs": [],
   "source": [
    "reg = r.fit(data[:, :3], data[:,-1])\n",
    "_, b, m = reg.coef_\n",
    "\n",
    "plt.scatter(X1,Y1,s = 1)\n",
    "plt.scatter(X2,Y2,s = 1)\n",
    "x_h = np.array(axes.get_xlim())\n",
    "y_h = (-(weight[1]/weight[2])*x_h)-(weight[0]/weight[2])\n",
    "\n",
    "x = np.arange(-15, 25)\n",
    "plt.plot(x, m*x+b)\n",
    "print(\"d............... \")\n",
    "plt.show()"
   ]
  },
  {
   "cell_type": "code",
   "execution_count": null,
   "metadata": {},
   "outputs": [],
   "source": []
  }
 ],
 "metadata": {
  "kernelspec": {
   "display_name": "Python 3",
   "language": "python",
   "name": "python3"
  },
  "language_info": {
   "codemirror_mode": {
    "name": "ipython",
    "version": 3
   },
   "file_extension": ".py",
   "mimetype": "text/x-python",
   "name": "python",
   "nbconvert_exporter": "python",
   "pygments_lexer": "ipython3",
   "version": "3.6.5"
  }
 },
 "nbformat": 4,
 "nbformat_minor": 2
}
