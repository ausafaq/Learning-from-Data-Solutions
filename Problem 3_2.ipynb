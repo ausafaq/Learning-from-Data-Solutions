{
 "cells": [
  {
   "cell_type": "code",
   "execution_count": 81,
   "metadata": {},
   "outputs": [],
   "source": [
    "import numpy as np\n",
    "import matplotlib.pyplot as plt\n",
    "#parameters\n",
    "rad = 10\n",
    "thk = 5\n",
    "\n",
    "def generatedata(rad,thk,sep,n,x1=0,y1=0):\n",
    "    # center of the top semi-circle\n",
    "    X1 = x1\n",
    "    Y1 = y1\n",
    "\n",
    "    # center of the bottom semi-circle\n",
    "    X2 = X1 + rad + thk / 2\n",
    "    Y2 = Y1 - sep\n",
    "    \n",
    "    # data points in the top semi-circle\n",
    "    top = []\n",
    "    # data points in the bottom semi-circle\n",
    "    bottom = []\n",
    "    \n",
    "    # parameters\n",
    "    r1 = rad + thk\n",
    "    r2 = rad\n",
    "    \n",
    "    cnt = 1\n",
    "    while(cnt <= n):\n",
    "        #uniformed generated points\n",
    "        x = np.random.uniform(-r1,r1)\n",
    "        y = np.random.uniform(-r1,r1)\n",
    "        \n",
    "        d = x**2 + y**2\n",
    "        if(d >= r2**2 and d <= r1**2):\n",
    "            if (y > 0):\n",
    "                top.append([X1 + x,Y1 + y])\n",
    "                cnt += 1\n",
    "            else:\n",
    "                bottom.append([X2 + x,Y2 + y])\n",
    "                cnt += 1\n",
    "        else:\n",
    "            continue\n",
    "\n",
    "    return top,bottom"
   ]
  },
  {
   "cell_type": "code",
   "execution_count": 82,
   "metadata": {},
   "outputs": [],
   "source": [
    "def process_data(top,bottom):\n",
    "    X1 = [i[0] for i in top]\n",
    "    Y1 = [i[1] for i in top]\n",
    "    X2 = [i[0] for i in bottom]\n",
    "    Y2 = [i[1] for i in bottom]\n",
    "\n",
    "    #plt.scatter(X1,Y1,s = 1)\n",
    "    #plt.scatter(X2,Y2,s = 1)\n",
    "    x1 = [[1] + i + [1] for i in top]\n",
    "    x2 = [[1] + i + [-1] for i in bottom]\n",
    "    data = x1 + x2\n",
    "    \n",
    "    data = np.array(data)\n",
    "    np.random.shuffle(data)\n",
    "    return data"
   ]
  },
  {
   "cell_type": "code",
   "execution_count": 83,
   "metadata": {},
   "outputs": [],
   "source": [
    "def pla_algorithm(data):\n",
    "    x_point = []\n",
    "    y_point = []\n",
    "    weight = [0,0,0]\n",
    "    count = 0\n",
    "    for i in range(len(data)):\n",
    "        point = data[i]\n",
    "        point.tolist()\n",
    "        if(np.sign(np.matmul(point[0:3],weight)) != point[3]):\n",
    "            weight = np.add(weight,(np.dot(point[3],point[0:3])))\n",
    "            axes = plt.gca()\n",
    "            #plt.scatter(X1,Y1,s = 1)\n",
    "            #plt.scatter(X2,Y2,s = 1)\n",
    "            x_h = np.array(axes.get_xlim())\n",
    "            y_h = (-(weight[1]/weight[2])*x_h)-(weight[0]/weight[2])\n",
    "            #plt.plot(x_h,y_h)\n",
    "            count += 1\n",
    "    return count"
   ]
  },
  {
   "cell_type": "code",
   "execution_count": 84,
   "metadata": {},
   "outputs": [
    {
     "data": {
      "image/png": "[encoded data removed]",
      "text/plain": [
       "<Figure size 432x288 with 1 Axes>"
      ]
     },
     "metadata": {},
     "output_type": "display_data"
    }
   ],
   "source": [
    "start = 0.2\n",
    "stop = 5\n",
    "step = 0.2\n",
    "sep_x = np.arange(start, stop+step, step)\n",
    "sep_y = []\n",
    "for sep in sep_x:\n",
    "    t,b = generatedata(rad,thk,sep,2000)\n",
    "    c = pla_algorithm(process_data(t,b))\n",
    "    sep_y.append(c)\n",
    "plt.plot(sep_x, sep_y)\n",
    "plt.show()"
   ]
  },
  {
   "cell_type": "code",
   "execution_count": 90,
   "metadata": {},
   "outputs": [
    {
     "name": "stdout",
     "output_type": "stream",
     "text": [
      "It was realized from several outputs of the program run that the Number of iterations decreases generally as the Value of sep increases.\n"
     ]
    }
   ],
   "source": [
    "print(\"It was realized from several outputs of the program run that the Number of iterations \"\n",
    "      +\"decreases generally as the Value of sep increases.\")"
   ]
  },
  {
   "cell_type": "code",
   "execution_count": null,
   "metadata": {},
   "outputs": [],
   "source": []
  }
 ],
 "metadata": {
  "kernelspec": {
   "display_name": "Python 3",
   "language": "python",
   "name": "python3"
  },
  "language_info": {
   "codemirror_mode": {
    "name": "ipython",
    "version": 3
   },
   "file_extension": ".py",
   "mimetype": "text/x-python",
   "name": "python",
   "nbconvert_exporter": "python",
   "pygments_lexer": "ipython3",
   "version": "3.6.5"
  }
 },
 "nbformat": 4,
 "nbformat_minor": 2
}
