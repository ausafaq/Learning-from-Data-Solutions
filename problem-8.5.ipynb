{
 "cells": [
  {
   "cell_type": "markdown",
   "metadata": {},
   "source": [
    "# Problem 8.5"
   ]
  },
  {
   "cell_type": "code",
   "execution_count": null,
   "metadata": {},
   "outputs": [],
   "source": [
    "import random\n",
    "import numpy as np\n",
    "import matplotlib.pyplot as plt\n",
    "from sklearn.linear_model import Perceptron\n",
    "from sklearn import svm"
   ]
  },
  {
   "cell_type": "markdown",
   "metadata": {},
   "source": [
    "# Part A"
   ]
  },
  {
   "cell_type": "code",
   "execution_count": null,
   "metadata": {},
   "outputs": [],
   "source": [
    "#Random generated data points distributed uniformly\n",
    "def randomData():\n",
    "    pos_x0 = np.random.uniform(-1, 1, 3)\n",
    "    pos_x1 = np.random.uniform(0, 1, 3)\n",
    "    neg_x0 = np.random.uniform(-1, 1, 3)\n",
    "    neg_x1 = np.random.uniform(-1, 0, 3)\n",
    "    return pos_x0, pos_x1, neg_x0, neg_x1"
   ]
  },
  {
   "cell_type": "code",
   "execution_count": null,
   "metadata": {},
   "outputs": [],
   "source": [
    "for i in range(1):\n",
    "    pos_x0, pos_x1, neg_x0, neg_x1 = randomData()\n",
    "    plt.scatter(pos_x0,pos_x1, color='blue', marker = 'o')\n",
    "    plt.scatter(neg_x0,neg_x1, color='red', marker = 's')\n",
    "    plt.show()\n",
    "    x = np.concatenate((\n",
    "    np.c_[pos_x0, pos_x1],\n",
    "    np.c_[neg_x0, neg_x1],\n",
    "    ))\n",
    "    y = np.array([1.]*pos_x0.shape[0] + [-1.]*neg_x0.shape[0])"
   ]
  },
  {
   "cell_type": "markdown",
   "metadata": {},
   "source": [
    "# Part B "
   ]
  },
  {
   "cell_type": "code",
   "execution_count": null,
   "metadata": {},
   "outputs": [],
   "source": [
    "#plotting random hyperplane\n",
    "clf = Perceptron(tol=1e-3, random_state=0)\n",
    "clf.fit(x, y)\n",
    "m, n = clf.coef_[0]\n",
    "b = clf.intercept_[0]\n",
    "\n",
    "plt.scatter(pos_x0, pos_x1, color='blue', marker = 'o')\n",
    "plt.scatter(neg_x0, neg_x1, color='red', marker = 's')\n",
    "xplot = np.linspace(-1, 1)\n",
    "yplot = -(xplot * m + b) / n\n",
    "plt.plot(xplot, yplot, color = 'black')\n",
    "plt.show()"
   ]
  },
  {
   "cell_type": "code",
   "execution_count": null,
   "metadata": {},
   "outputs": [],
   "source": [
    "import random\n",
    "chk = 1\n",
    "def g_random():\n",
    "    while(1):\n",
    "        a = random.uniform(-1,1)\n",
    "        chk = -1\n",
    "        for i in range(6):\n",
    "            if(np.sign(y[i]-a)*y[i]>0):\n",
    "                chk = 1\n",
    "            else:\n",
    "                chk = -1\n",
    "                break\n",
    "                \n",
    "        if(chk == 1):\n",
    "            return a\n",
    "            break\n",
    "a_random = g_random()\n",
    "plt.axhline(y=a_random, color = 'black')\n",
    "plt.scatter(pos_x0, pos_x1, color='blue', marker = 'o')\n",
    "plt.scatter(neg_x0, neg_x1, color='red', marker = 's')\n",
    "plt.show()"
   ]
  },
  {
   "cell_type": "code",
   "execution_count": null,
   "metadata": {},
   "outputs": [],
   "source": [
    "#Plotting SVM hyperplane\n",
    "clf = svm.SVC(kernel='linear',C=1.0)\n",
    "clf.fit(x, y)\n",
    "plt.scatter(pos_x0, pos_x1, color='blue', marker = 'o')\n",
    "plt.scatter(neg_x0, neg_x1, color='red', marker = 's')\n",
    "w = clf.coef_[0]\n",
    "a = -w[0] / w[1]\n",
    "xplot = np.linspace(-1, 1)\n",
    "yplot = a * xplot - (clf.intercept_[0]) / w[1]\n",
    "plt.plot(xplot,yplot, color='black')\n",
    "plt.show()"
   ]
  },
  {
   "cell_type": "markdown",
   "metadata": {},
   "source": [
    "# Part C"
   ]
  },
  {
   "cell_type": "code",
   "execution_count": null,
   "metadata": {},
   "outputs": [],
   "source": [
    "#store perceptron score\n",
    "a_random_list = []\n",
    "\n",
    "#store svm score\n",
    "a_svm_list = []"
   ]
  },
  {
   "cell_type": "code",
   "execution_count": null,
   "metadata": {},
   "outputs": [],
   "source": [
    "for j in range(1000000):\n",
    "    pos_x0, pos_x1, neg_x0, neg_x1 = randomData()\n",
    "    x = np.concatenate((\n",
    "    np.c_[pos_x0, pos_x1],\n",
    "    np.c_[neg_x0, neg_x1],\n",
    "    ))\n",
    "    y = np.array([1.]*pos_x0.shape[0] + [-1.]*neg_x0.shape[0])\n",
    "    a_random = g_random()\n",
    "    a_random_list.append(a_random)\n",
    "    clf = svm.SVC(kernel='linear', C = 1.0)\n",
    "    clf.fit(x, y)\n",
    "    s_score = clf.score(x,y)\n",
    "    m, n = clf.coef_[0]\n",
    "    b = clf.intercept_[0]\n",
    "    a_svm_list.append(b)"
   ]
  },
  {
   "cell_type": "markdown",
   "metadata": {},
   "source": [
    "# Part D"
   ]
  },
  {
   "cell_type": "code",
   "execution_count": null,
   "metadata": {},
   "outputs": [],
   "source": [
    "plt.hist(a_random_list)\n",
    "plt.xlabel('a_random')\n",
    "plt.show()"
   ]
  },
  {
   "cell_type": "code",
   "execution_count": null,
   "metadata": {},
   "outputs": [],
   "source": [
    "plt.hist(a_svm_list)\n",
    "plt.xlabel('a_svm')\n",
    "plt.show()"
   ]
  },
  {
   "cell_type": "markdown",
   "metadata": {},
   "source": [
    "It can be observed from the histograms that SVM has smaller range as compared to the random classifier. Hence, SVM gives the optimized weight vector with better margin."
   ]
  },
  {
   "cell_type": "code",
   "execution_count": null,
   "metadata": {},
   "outputs": [],
   "source": []
  }
 ],
 "metadata": {
  "kernelspec": {
   "display_name": "Python [conda root]",
   "language": "python",
   "name": "conda-root-py"
  },
  "language_info": {
   "codemirror_mode": {
    "name": "ipython",
    "version": 3
   },
   "file_extension": ".py",
   "mimetype": "text/x-python",
   "name": "python",
   "nbconvert_exporter": "python",
   "pygments_lexer": "ipython3",
   "version": "3.6.5"
  }
 },
 "nbformat": 4,
 "nbformat_minor": 2
}
