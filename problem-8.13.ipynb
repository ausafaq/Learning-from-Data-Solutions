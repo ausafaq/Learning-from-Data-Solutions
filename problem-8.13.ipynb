{
 "cells": [
  {
   "cell_type": "markdown",
   "metadata": {},
   "source": [
    "# Problem 8.13"
   ]
  },
  {
   "cell_type": "code",
   "execution_count": 1,
   "metadata": {},
   "outputs": [],
   "source": [
    "import numpy as np\n",
    "import matplotlib.pyplot as plt\n",
    "from numpy.linalg import inv"
   ]
  },
  {
   "cell_type": "code",
   "execution_count": 2,
   "metadata": {},
   "outputs": [],
   "source": [
    "X1 = [-0.494, -0.311, 0.0064, -0.0089, 0.0014, -0.189,0.085, 0.171, 0.142]\n",
    "Y1= [0.363, -0.101, 0.374, -0.173, 0.138, 0.718, 0.32208, -0.302, 0.568]"
   ]
  },
  {
   "cell_type": "code",
   "execution_count": 3,
   "metadata": {},
   "outputs": [
    {
     "data": {
      "image/png": "[encoded data removed]",
      "text/plain": [
       "<Figure size 432x288 with 1 Axes>"
      ]
     },
     "metadata": {},
     "output_type": "display_data"
    }
   ],
   "source": [
    "plt.scatter(X1,Y1, color = 'blue', marker = 'o')\n",
    "plt.show()"
   ]
  },
  {
   "cell_type": "code",
   "execution_count": 4,
   "metadata": {},
   "outputs": [],
   "source": [
    "X2 = [0.491, -0.892, -0.721, 0.519, -0.775, -0.646,-0.803, 0.994, 0.724, -0.748,-0.635]\n",
    "Y2 = [0.920, -0.946, -0.710, -0.715, 0.551, 0.773, 0.875, 0.801, -0.795,-0.853, -0.905]"
   ]
  },
  {
   "cell_type": "code",
   "execution_count": 5,
   "metadata": {},
   "outputs": [
    {
     "data": {
      "image/png": "[encoded data removed]",
      "text/plain": [
       "<Figure size 432x288 with 1 Axes>"
      ]
     },
     "metadata": {},
     "output_type": "display_data"
    }
   ],
   "source": [
    "plt.scatter(X2,Y2,color='red', marker = '+')\n",
    "plt.show()"
   ]
  },
  {
   "cell_type": "code",
   "execution_count": 6,
   "metadata": {},
   "outputs": [],
   "source": [
    "# data points\n",
    "data = np.array([[1,-0.494,0.363, 1],\n",
    "                [1,-0.311,-0.101,1],\n",
    "                [1,0.0064,0.374,1],\n",
    "                [1,-0.0089,-0.173,1],\n",
    "                [1,0.0014,0.138,1],\n",
    "                [1,-0.189,0.718,1],\n",
    "                [1,0.085,0.32208,1],\n",
    "                [1,0.171,-0.302,1],\n",
    "                [1,0.142,0.568,1],\n",
    "                [1,0.491,  0.920,-1],\n",
    "                [1,-0.892, -0.946,-1],\n",
    "                [1,-0.721, -0.710,-1],\n",
    "                [1,0.519, -0.715,-1],\n",
    "                [1,-0.775, 0.551,-1],\n",
    "                [1,-0.646,0.773,-1],\n",
    "                [1,-0.803, 0.875,-1],\n",
    "                [1,0.994, 0.801,-1],\n",
    "                [1,0.724,-0.795,-1],\n",
    "                [1,-0.748,-0.853-1],\n",
    "                [1,-0.635,-0.905,-1]])"
   ]
  },
  {
   "cell_type": "code",
   "execution_count": 7,
   "metadata": {},
   "outputs": [],
   "source": [
    "x_points = np.array([[1,-0.494,0.363],\n",
    "[1,-0.311,-0.101],\n",
    "[1,0.0064,0.374],\n",
    "[1,-0.0089,-0.173],\n",
    "[1,0.0014,0.138],\n",
    "[1,-0.189,0.718],\n",
    "[1,0.085,0.32208],\n",
    "[1,0.171,-0.302],\n",
    "[1,0.142,0.568],\n",
    "[1,0.491,  0.920],\n",
    "[1,-0.892, -0.946],\n",
    "[1,-0.721, -0.710],\n",
    "[1,0.519, -0.715],\n",
    "[1,-0.775, 0.551], \n",
    "[1,-0.646,0.773], \n",
    "[1,-0.803, 0.875], \n",
    "[1,0.994, 0.801], \n",
    "[1,0.724,-0.795],\n",
    "[1,-0.748,-0.853],\n",
    "[1,-0.635,-0.905]])"
   ]
  },
  {
   "cell_type": "code",
   "execution_count": 8,
   "metadata": {},
   "outputs": [],
   "source": [
    "y_labels = [1,1,1,1,1,1,1,1,1,-1,-1,-1,-1,-1,-1,-1,-1,-1,-1,-1]"
   ]
  },
  {
   "cell_type": "code",
   "execution_count": 9,
   "metadata": {},
   "outputs": [
    {
     "name": "stdout",
     "output_type": "stream",
     "text": [
      "[-0.08293153  0.20484254  0.32268424]\n"
     ]
    }
   ],
   "source": [
    "w = inv(x_points.T.dot(x_points)).dot(x_points.T).dot(y_labels)\n",
    "print(w)"
   ]
  },
  {
   "cell_type": "markdown",
   "metadata": {},
   "source": [
    "# Part A"
   ]
  },
  {
   "cell_type": "code",
   "execution_count": 16,
   "metadata": {},
   "outputs": [],
   "source": [
    "# number of data points\n",
    "n = 1000\n",
    "x = np.linspace(-1, 1, n)\n",
    "y = np.linspace(-1, 1, n)\n",
    "\n",
    "X, Y = np.meshgrid(x, y)"
   ]
  },
  {
   "cell_type": "code",
   "execution_count": 10,
   "metadata": {},
   "outputs": [],
   "source": [
    "# feature transformation\n",
    "def transform(data):\n",
    "    result = []\n",
    "    for i in data:\n",
    "        x1 = i[1]\n",
    "        x2 = i[2]\n",
    "        flag = i[-1]\n",
    "        x = [1, x1, x2, x1**2, x1*x2, x2**2, flag]\n",
    "        result.append(x)\n",
    "    return np.array(result)\n",
    "\n",
    "newdata = transform(data)\n",
    "\n",
    "\n",
    "def f(x,y,w):\n",
    "    return w[0] + w[1]*x + w[2]*y + w[3]*x**2 + w[4]*(x*y) + w[5]*(y**2)"
   ]
  },
  {
   "cell_type": "code",
   "execution_count": 11,
   "metadata": {},
   "outputs": [],
   "source": [
    "# pre-processing data\n",
    "X_tran = newdata[:,:-1]\n",
    "Y_tran = newdata[:,-1]"
   ]
  },
  {
   "cell_type": "code",
   "execution_count": 12,
   "metadata": {},
   "outputs": [],
   "source": [
    "W_2 = inv(X_tran.T.dot(X_tran)).dot(X_tran.T).dot(Y_tran)"
   ]
  },
  {
   "cell_type": "code",
   "execution_count": 18,
   "metadata": {},
   "outputs": [
    {
     "data": {
      "image/png": "[encoded data removed]",
      "text/plain": [
       "<Figure size 432x288 with 1 Axes>"
      ]
     },
     "metadata": {},
     "output_type": "display_data"
    }
   ],
   "source": [
    "plt.scatter(X1,Y1, color = 'blue', marker = 'o')\n",
    "plt.scatter(X2,Y2,color='red', marker = '+')\n",
    "plt.contour(X, Y, f(X, Y,W_2), 1, colors = 'black')\n",
    "plt.title('Order-2')\n",
    "plt.show()"
   ]
  },
  {
   "cell_type": "code",
   "execution_count": 19,
   "metadata": {},
   "outputs": [],
   "source": [
    "# feature transformation\n",
    "def transform(data):\n",
    "    result = []\n",
    "    for i in data:\n",
    "        x1 = i[1]\n",
    "        x2 = i[2]\n",
    "        flag = i[-1]\n",
    "        x = [1, x1, x2, x1 * x2, x1**2, x2**2, x1**3, (x1**2)*x2, x1*(x2**2), x2**3, flag]\n",
    "        result.append(x)\n",
    "    return np.array(result)\n",
    "\n",
    "newdata = transform(data)\n",
    "\n",
    "\n",
    "def f(x,y,w):\n",
    "    return w[0] + w[1]*x + w[2]*y + w[3]*x*y + w[4]*(x**2) + w[5]*(y**2) + w[6]*(x**3) + w[7]*(x**2)*y + w[8]*x*(y**2) + w[9]*y**3"
   ]
  },
  {
   "cell_type": "code",
   "execution_count": 20,
   "metadata": {},
   "outputs": [],
   "source": [
    "X_tran = newdata[:,:-1]\n",
    "Y_tran = newdata[:,-1]"
   ]
  },
  {
   "cell_type": "code",
   "execution_count": 21,
   "metadata": {},
   "outputs": [],
   "source": [
    "W_3 = inv(X_tran.T.dot(X_tran)).dot(X_tran.T).dot(Y_tran)"
   ]
  },
  {
   "cell_type": "code",
   "execution_count": 23,
   "metadata": {},
   "outputs": [
    {
     "data": {
      "image/png": "[encoded data removed]",
      "text/plain": [
       "<Figure size 432x288 with 1 Axes>"
      ]
     },
     "metadata": {},
     "output_type": "display_data"
    }
   ],
   "source": [
    "plt.scatter(X1,Y1, color = 'blue', marker = 'o')\n",
    "plt.scatter(X2,Y2,color='red', marker = '+')\n",
    "plt.contour(X, Y, f(X, Y, W_3), 1, colors = 'black')\n",
    "plt.show()"
   ]
  },
  {
   "cell_type": "markdown",
   "metadata": {},
   "source": [
    "# Part B"
   ]
  },
  {
   "cell_type": "markdown",
   "metadata": {},
   "source": [
    "Third order fit seems to be overfitted"
   ]
  },
  {
   "cell_type": "markdown",
   "metadata": {},
   "source": [
    "# Part C"
   ]
  },
  {
   "cell_type": "code",
   "execution_count": 24,
   "metadata": {},
   "outputs": [],
   "source": [
    "def transform(data):\n",
    "    result = []\n",
    "    for i in data:\n",
    "        x1 = i[1]\n",
    "        x2 = i[2]\n",
    "        flag = i[-1]\n",
    "        x = [1, x1, x2, x1**2, x1*x2, x2**2, flag]\n",
    "        result.append(x)\n",
    "    return np.array(result)\n",
    "\n",
    "newdata_pseudo2 = transform(data)\n",
    "\n",
    "\n",
    "def f(x,y,w):\n",
    "    return w[0] + w[1]*x + w[2]*y + w[3]*x**2 + w[4]*(x*y) + w[5]*(y**2)"
   ]
  },
  {
   "cell_type": "code",
   "execution_count": 25,
   "metadata": {},
   "outputs": [],
   "source": [
    "X_tran = newdata_pseudo2[:,:-1]\n",
    "Y_tran = newdata_pseudo2[:,-1]"
   ]
  },
  {
   "cell_type": "code",
   "execution_count": 26,
   "metadata": {},
   "outputs": [],
   "source": [
    "parameter = 1\n",
    "w_pseudo = inv(X_tran.T.dot(X_tran) + parameter*(X_tran.T.dot(X_tran))).dot(X_tran.T).dot(Y_tran)"
   ]
  },
  {
   "cell_type": "code",
   "execution_count": 27,
   "metadata": {},
   "outputs": [
    {
     "data": {
      "image/png": "[encoded data removed]",
      "text/plain": [
       "<Figure size 432x288 with 1 Axes>"
      ]
     },
     "metadata": {},
     "output_type": "display_data"
    }
   ],
   "source": [
    "plt.scatter(X1,Y1, color = 'blue', marker = 'o')\n",
    "plt.scatter(X2,Y2,color='red', marker = '+')\n",
    "plt.contour(X, Y, f(X, Y,w_pseudo), 1, colors = 'black')\n",
    "plt.title('Order-2')\n",
    "plt.show()"
   ]
  },
  {
   "cell_type": "code",
   "execution_count": 28,
   "metadata": {},
   "outputs": [],
   "source": [
    "def transform(data):\n",
    "    result = []\n",
    "    for i in data:\n",
    "        x1 = i[1]\n",
    "        x2 = i[2]\n",
    "        flag = i[-1]\n",
    "        x = [1, x1, x2, x1 * x2, x1**2, x2**2, x1**3, (x1**2)*x2, x1*(x2**2), x2**3, flag]\n",
    "        result.append(x)\n",
    "    return np.array(result)\n",
    "\n",
    "newdata_pseudo1 = transform(data)\n",
    "\n",
    "\n",
    "def f(x,y,w):\n",
    "    return w[0] + w[1]*x + w[2]*y + w[3]*x*y + w[4]*(x**2) + w[5]*(y**2) + w[6]*(x**3) + w[7]*(x**2)*y + w[8]*x*(y**2) + w[9]*y**3"
   ]
  },
  {
   "cell_type": "code",
   "execution_count": 29,
   "metadata": {},
   "outputs": [],
   "source": [
    "X_tran = newdata_pseudo1[:,:-1]\n",
    "Y_tran = newdata_pseudo1[:,-1]"
   ]
  },
  {
   "cell_type": "code",
   "execution_count": 30,
   "metadata": {},
   "outputs": [],
   "source": [
    "parameter = 1\n",
    "w_pseudo = inv(X_tran.T.dot(X_tran) + parameter*(X_tran.T.dot(X_tran))).dot(X_tran.T).dot(Y_tran)"
   ]
  },
  {
   "cell_type": "code",
   "execution_count": 31,
   "metadata": {},
   "outputs": [
    {
     "data": {
      "image/png": "[encoded data removed]",
      "text/plain": [
       "<Figure size 432x288 with 1 Axes>"
      ]
     },
     "metadata": {},
     "output_type": "display_data"
    }
   ],
   "source": [
    "plt.scatter(X1,Y1, color = 'blue', marker = 'o')\n",
    "plt.scatter(X2,Y2,color='red', marker = '+')\n",
    "plt.contour(X, Y, f(X, Y,w_pseudo), 1, colors = 'black')\n",
    "plt.title('Order-3')\n",
    "plt.show()"
   ]
  },
  {
   "cell_type": "markdown",
   "metadata": {},
   "source": [
    "# Part D"
   ]
  },
  {
   "cell_type": "code",
   "execution_count": 32,
   "metadata": {},
   "outputs": [
    {
     "data": {
      "text/plain": [
       "SVC(C=1.0, cache_size=200, class_weight=None, coef0=0.0,\n",
       "  decision_function_shape='ovr', degree=3, gamma='auto', kernel='rbf',\n",
       "  max_iter=-1, probability=False, random_state=None, shrinking=True,\n",
       "  tol=0.001, verbose=False)"
      ]
     },
     "execution_count": 32,
     "metadata": {},
     "output_type": "execute_result"
    }
   ],
   "source": [
    "from sklearn.svm import SVC\n",
    "svclassifier = SVC()\n",
    "svclassifier.fit(x_points, y_labels)"
   ]
  },
  {
   "cell_type": "code",
   "execution_count": 33,
   "metadata": {
    "scrolled": true
   },
   "outputs": [
    {
     "data": {
      "image/png": "[encoded data removed]",
      "text/plain": [
       "<Figure size 432x288 with 1 Axes>"
      ]
     },
     "metadata": {},
     "output_type": "display_data"
    }
   ],
   "source": [
    "h = .01\n",
    "\n",
    "xx, yy = np.meshgrid(\n",
    "    np.arange(-1, 1.1, h),\n",
    "    np.arange(-1, 1, h),\n",
    ")\n",
    "Z = np.zeros_like(xx)\n",
    "\n",
    "#Result into a color plot\n",
    "for i in range(xx.shape[0]):\n",
    "    for j in range(xx.shape[1]):\n",
    "        xx[i]\n",
    "        Z[i, j] = svclassifier.predict(np.array([1, xx[i, j], yy[i, j]]).reshape(1, -1))\n",
    "        \n",
    "plt.pcolormesh(xx, yy, Z, cmap= plt.cm.Paired)\n",
    "\n",
    "plt.scatter(X1,Y1, color = 'blue', marker = 'o')\n",
    "plt.scatter(X2,Y2,color='red', marker = '+')\n",
    "plt.show()"
   ]
  },
  {
   "cell_type": "code",
   "execution_count": 34,
   "metadata": {},
   "outputs": [
    {
     "name": "stdout",
     "output_type": "stream",
     "text": [
      "Percentage Score using SVM:  85.0\n"
     ]
    }
   ],
   "source": [
    "score = svclassifier.score(x_points, y_labels) * 100\n",
    "print(\"Percentage Score using SVM: \", score)"
   ]
  },
  {
   "cell_type": "markdown",
   "metadata": {},
   "source": [
    "SVM plot depicts that it is a competitive non-linear classifier just like second-order polynomial fit in part A. It can also be concluded from the plot that there's no significant overfitting similar to what is observed in part A, second order fit."
   ]
  },
  {
   "cell_type": "code",
   "execution_count": 35,
   "metadata": {},
   "outputs": [],
   "source": [
    "svclassifier = SVC(kernel='poly', degree = 2)"
   ]
  },
  {
   "cell_type": "code",
   "execution_count": null,
   "metadata": {},
   "outputs": [],
   "source": []
  }
 ],
 "metadata": {
  "kernelspec": {
   "display_name": "Python [conda root]",
   "language": "python",
   "name": "conda-root-py"
  },
  "language_info": {
   "codemirror_mode": {
    "name": "ipython",
    "version": 3
   },
   "file_extension": ".py",
   "mimetype": "text/x-python",
   "name": "python",
   "nbconvert_exporter": "python",
   "pygments_lexer": "ipython3",
   "version": "3.6.5"
  }
 },
 "nbformat": 4,
 "nbformat_minor": 2
}
